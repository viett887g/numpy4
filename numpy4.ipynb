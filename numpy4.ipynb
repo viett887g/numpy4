{
  "nbformat": 4,
  "nbformat_minor": 0,
  "metadata": {
    "colab": {
      "name": "numpy4.ipynb",
      "provenance": [],
      "authorship_tag": "ABX9TyPAsEGPbeR5wR83unhCL6ui",
      "include_colab_link": true
    },
    "kernelspec": {
      "name": "python3",
      "display_name": "Python 3"
    },
    "language_info": {
      "name": "python"
    }
  },
  "cells": [
    {
      "cell_type": "markdown",
      "metadata": {
        "id": "view-in-github",
        "colab_type": "text"
      },
      "source": [
        "<a href=\"https://colab.research.google.com/github/viett887g/numpy4/blob/main/numpy4.ipynb\" target=\"_parent\"><img src=\"https://colab.research.google.com/assets/colab-badge.svg\" alt=\"Open In Colab\"/></a>"
      ]
    },
    {
      "cell_type": "code",
      "execution_count": 1,
      "metadata": {
        "id": "QsnMh6YkU-UT"
      },
      "outputs": [],
      "source": [
        "import numpy as np\n",
        "import matplotlib.pyplot as plt \n",
        "import statistics\n",
        "from statistics import mode"
      ]
    },
    {
      "cell_type": "code",
      "source": [
        "Câu 1: Sử dụng thư viện Numpy, hãy tạo một vector a có 7 chiều (tương ứng 7 phần tử) với giá trị các phần tử được sinh bằng hàm (kết quả xuất ra màn hình)\n",
        "np.arrange()\n",
        "np.linspace()\n",
        "np.logspace()\n",
        "np.random.rand()"
      ],
      "metadata": {
        "id": "r1KmzPXCV4x9"
      },
      "execution_count": null,
      "outputs": []
    },
    {
      "cell_type": "code",
      "source": [
        "vecA = [np.arange(1,10)]\n",
        "\n",
        "def magie():\n",
        "    vecA = np.arange(1,8)\n",
        "    vecB = []\n",
        "    for i in range(7):\n",
        "        vecB.append(vecA)\n",
        "        print(\"số chiều của vector \", str(i+1),\"la\", vecA.ndim)\n",
        "        print(\"số chiều của vector chuyển vị \", str(i+1), \"la\",np.transpose([vecA]).ndim)\n",
        "        print(\"kích thước của vector A \", str(i+1),\"la\" ,vecA.shape)\n",
        "        print(\"kích thước của vector A chuyển vị \" ,str(i+1), \"la\",np.transpose([vecA]).shape)\n",
        "    vecA = np.array(vecB)\n",
        "    return vecA\n",
        "\n",
        "vecA = magie()\n",
        "print(vecA)"
      ],
      "metadata": {
        "colab": {
          "base_uri": "https://localhost:8080/"
        },
        "id": "kZ3p9rmiV9z9",
        "outputId": "99c3ec21-dcc2-486e-d7a4-16c2668e5bba"
      },
      "execution_count": 22,
      "outputs": [
        {
          "output_type": "stream",
          "name": "stdout",
          "text": [
            "số chiều của vector  1 la 1\n",
            "số chiều của vector chuyển vị  1 la 2\n",
            "kích thước của vector A  1 la (7,)\n",
            "kích thước của vector A chuyển vị  1 la (7, 1)\n",
            "số chiều của vector  2 la 1\n",
            "số chiều của vector chuyển vị  2 la 2\n",
            "kích thước của vector A  2 la (7,)\n",
            "kích thước của vector A chuyển vị  2 la (7, 1)\n",
            "số chiều của vector  3 la 1\n",
            "số chiều của vector chuyển vị  3 la 2\n",
            "kích thước của vector A  3 la (7,)\n",
            "kích thước của vector A chuyển vị  3 la (7, 1)\n",
            "số chiều của vector  4 la 1\n",
            "số chiều của vector chuyển vị  4 la 2\n",
            "kích thước của vector A  4 la (7,)\n",
            "kích thước của vector A chuyển vị  4 la (7, 1)\n",
            "số chiều của vector  5 la 1\n",
            "số chiều của vector chuyển vị  5 la 2\n",
            "kích thước của vector A  5 la (7,)\n",
            "kích thước của vector A chuyển vị  5 la (7, 1)\n",
            "số chiều của vector  6 la 1\n",
            "số chiều của vector chuyển vị  6 la 2\n",
            "kích thước của vector A  6 la (7,)\n",
            "kích thước của vector A chuyển vị  6 la (7, 1)\n",
            "số chiều của vector  7 la 1\n",
            "số chiều của vector chuyển vị  7 la 2\n",
            "kích thước của vector A  7 la (7,)\n",
            "kích thước của vector A chuyển vị  7 la (7, 1)\n",
            "[[1 2 3 4 5 6 7]\n",
            " [1 2 3 4 5 6 7]\n",
            " [1 2 3 4 5 6 7]\n",
            " [1 2 3 4 5 6 7]\n",
            " [1 2 3 4 5 6 7]\n",
            " [1 2 3 4 5 6 7]\n",
            " [1 2 3 4 5 6 7]]\n"
          ]
        }
      ]
    },
    {
      "cell_type": "code",
      "source": [
        "Câu 2: Sử dụng thư viện Numpy, hãy tạo ra ma trận A10x7 với giá trị các phần tử của ma trận A được sinh bởi:\n",
        "\n",
        "np.arrange()\n",
        "np.linspace()\n",
        "np.logspace()\n",
        "np.random.rand() Sau mỗi lần ma trận được tạo ra, hãy xuất kết quả ra màn hình và cho biết:\n",
        "Số chiều và kích thước của ma trận A và ma trận AT"
      ],
      "metadata": {
        "id": "yefS_iH3V9t9"
      },
      "execution_count": null,
      "outputs": []
    },
    {
      "cell_type": "code",
      "source": [
        "def magieclo(x,y):\n",
        "    a = np.arange(1,x+1)\n",
        "    b = []\n",
        "    for i in range(y):\n",
        "        b.append(a)\n",
        "        print(\"\\nMa trận A được tạo ra lần \",str(i+1) ,\" là: \\n\", np.array(b))\n",
        "        print(\"\\nKích thước của ma trận A được tạo ra lần \",str(i+1) ,\" là: \", np.array(b).shape)\n",
        "        c = np.transpose(b)\n",
        "        print(\"\\nMa trận chuuyển vị của A được tạo ra lần \",str(i+1) ,\" là: \\n\", c)\n",
        "        print(\"\\nKích thước của ma trận chuyển vị A được tạo ra lần \",str(i+1) ,\" là: \", c.shape)\n",
        "    a = np.array(b)\n",
        "    \n",
        "    return a\n",
        "\n",
        "A = magieclo(10, 7)\n",
        "print(A)"
      ],
      "metadata": {
        "colab": {
          "base_uri": "https://localhost:8080/"
        },
        "id": "BnOSqDajabXy",
        "outputId": "bbc42dbf-8e38-48a7-8ca2-197279b716e5"
      },
      "execution_count": 33,
      "outputs": [
        {
          "output_type": "stream",
          "name": "stdout",
          "text": [
            "\n",
            "Ma trận A được tạo ra lần  1  là: \n",
            " [[ 1  2  3  4  5  6  7  8  9 10]]\n",
            "\n",
            "Kích thước của ma trận A được tạo ra lần  1  là:  (1, 10)\n",
            "\n",
            "Ma trận chuuyển vị của A được tạo ra lần  1  là: \n",
            " [[ 1]\n",
            " [ 2]\n",
            " [ 3]\n",
            " [ 4]\n",
            " [ 5]\n",
            " [ 6]\n",
            " [ 7]\n",
            " [ 8]\n",
            " [ 9]\n",
            " [10]]\n",
            "\n",
            "Kích thước của ma trận chuyển vị A được tạo ra lần  1  là:  (10, 1)\n",
            "\n",
            "Ma trận A được tạo ra lần  2  là: \n",
            " [[ 1  2  3  4  5  6  7  8  9 10]\n",
            " [ 1  2  3  4  5  6  7  8  9 10]]\n",
            "\n",
            "Kích thước của ma trận A được tạo ra lần  2  là:  (2, 10)\n",
            "\n",
            "Ma trận chuuyển vị của A được tạo ra lần  2  là: \n",
            " [[ 1  1]\n",
            " [ 2  2]\n",
            " [ 3  3]\n",
            " [ 4  4]\n",
            " [ 5  5]\n",
            " [ 6  6]\n",
            " [ 7  7]\n",
            " [ 8  8]\n",
            " [ 9  9]\n",
            " [10 10]]\n",
            "\n",
            "Kích thước của ma trận chuyển vị A được tạo ra lần  2  là:  (10, 2)\n",
            "\n",
            "Ma trận A được tạo ra lần  3  là: \n",
            " [[ 1  2  3  4  5  6  7  8  9 10]\n",
            " [ 1  2  3  4  5  6  7  8  9 10]\n",
            " [ 1  2  3  4  5  6  7  8  9 10]]\n",
            "\n",
            "Kích thước của ma trận A được tạo ra lần  3  là:  (3, 10)\n",
            "\n",
            "Ma trận chuuyển vị của A được tạo ra lần  3  là: \n",
            " [[ 1  1  1]\n",
            " [ 2  2  2]\n",
            " [ 3  3  3]\n",
            " [ 4  4  4]\n",
            " [ 5  5  5]\n",
            " [ 6  6  6]\n",
            " [ 7  7  7]\n",
            " [ 8  8  8]\n",
            " [ 9  9  9]\n",
            " [10 10 10]]\n",
            "\n",
            "Kích thước của ma trận chuyển vị A được tạo ra lần  3  là:  (10, 3)\n",
            "\n",
            "Ma trận A được tạo ra lần  4  là: \n",
            " [[ 1  2  3  4  5  6  7  8  9 10]\n",
            " [ 1  2  3  4  5  6  7  8  9 10]\n",
            " [ 1  2  3  4  5  6  7  8  9 10]\n",
            " [ 1  2  3  4  5  6  7  8  9 10]]\n",
            "\n",
            "Kích thước của ma trận A được tạo ra lần  4  là:  (4, 10)\n",
            "\n",
            "Ma trận chuuyển vị của A được tạo ra lần  4  là: \n",
            " [[ 1  1  1  1]\n",
            " [ 2  2  2  2]\n",
            " [ 3  3  3  3]\n",
            " [ 4  4  4  4]\n",
            " [ 5  5  5  5]\n",
            " [ 6  6  6  6]\n",
            " [ 7  7  7  7]\n",
            " [ 8  8  8  8]\n",
            " [ 9  9  9  9]\n",
            " [10 10 10 10]]\n",
            "\n",
            "Kích thước của ma trận chuyển vị A được tạo ra lần  4  là:  (10, 4)\n",
            "\n",
            "Ma trận A được tạo ra lần  5  là: \n",
            " [[ 1  2  3  4  5  6  7  8  9 10]\n",
            " [ 1  2  3  4  5  6  7  8  9 10]\n",
            " [ 1  2  3  4  5  6  7  8  9 10]\n",
            " [ 1  2  3  4  5  6  7  8  9 10]\n",
            " [ 1  2  3  4  5  6  7  8  9 10]]\n",
            "\n",
            "Kích thước của ma trận A được tạo ra lần  5  là:  (5, 10)\n",
            "\n",
            "Ma trận chuuyển vị của A được tạo ra lần  5  là: \n",
            " [[ 1  1  1  1  1]\n",
            " [ 2  2  2  2  2]\n",
            " [ 3  3  3  3  3]\n",
            " [ 4  4  4  4  4]\n",
            " [ 5  5  5  5  5]\n",
            " [ 6  6  6  6  6]\n",
            " [ 7  7  7  7  7]\n",
            " [ 8  8  8  8  8]\n",
            " [ 9  9  9  9  9]\n",
            " [10 10 10 10 10]]\n",
            "\n",
            "Kích thước của ma trận chuyển vị A được tạo ra lần  5  là:  (10, 5)\n",
            "\n",
            "Ma trận A được tạo ra lần  6  là: \n",
            " [[ 1  2  3  4  5  6  7  8  9 10]\n",
            " [ 1  2  3  4  5  6  7  8  9 10]\n",
            " [ 1  2  3  4  5  6  7  8  9 10]\n",
            " [ 1  2  3  4  5  6  7  8  9 10]\n",
            " [ 1  2  3  4  5  6  7  8  9 10]\n",
            " [ 1  2  3  4  5  6  7  8  9 10]]\n",
            "\n",
            "Kích thước của ma trận A được tạo ra lần  6  là:  (6, 10)\n",
            "\n",
            "Ma trận chuuyển vị của A được tạo ra lần  6  là: \n",
            " [[ 1  1  1  1  1  1]\n",
            " [ 2  2  2  2  2  2]\n",
            " [ 3  3  3  3  3  3]\n",
            " [ 4  4  4  4  4  4]\n",
            " [ 5  5  5  5  5  5]\n",
            " [ 6  6  6  6  6  6]\n",
            " [ 7  7  7  7  7  7]\n",
            " [ 8  8  8  8  8  8]\n",
            " [ 9  9  9  9  9  9]\n",
            " [10 10 10 10 10 10]]\n",
            "\n",
            "Kích thước của ma trận chuyển vị A được tạo ra lần  6  là:  (10, 6)\n",
            "\n",
            "Ma trận A được tạo ra lần  7  là: \n",
            " [[ 1  2  3  4  5  6  7  8  9 10]\n",
            " [ 1  2  3  4  5  6  7  8  9 10]\n",
            " [ 1  2  3  4  5  6  7  8  9 10]\n",
            " [ 1  2  3  4  5  6  7  8  9 10]\n",
            " [ 1  2  3  4  5  6  7  8  9 10]\n",
            " [ 1  2  3  4  5  6  7  8  9 10]\n",
            " [ 1  2  3  4  5  6  7  8  9 10]]\n",
            "\n",
            "Kích thước của ma trận A được tạo ra lần  7  là:  (7, 10)\n",
            "\n",
            "Ma trận chuuyển vị của A được tạo ra lần  7  là: \n",
            " [[ 1  1  1  1  1  1  1]\n",
            " [ 2  2  2  2  2  2  2]\n",
            " [ 3  3  3  3  3  3  3]\n",
            " [ 4  4  4  4  4  4  4]\n",
            " [ 5  5  5  5  5  5  5]\n",
            " [ 6  6  6  6  6  6  6]\n",
            " [ 7  7  7  7  7  7  7]\n",
            " [ 8  8  8  8  8  8  8]\n",
            " [ 9  9  9  9  9  9  9]\n",
            " [10 10 10 10 10 10 10]]\n",
            "\n",
            "Kích thước của ma trận chuyển vị A được tạo ra lần  7  là:  (10, 7)\n",
            "[[ 1  2  3  4  5  6  7  8  9 10]\n",
            " [ 1  2  3  4  5  6  7  8  9 10]\n",
            " [ 1  2  3  4  5  6  7  8  9 10]\n",
            " [ 1  2  3  4  5  6  7  8  9 10]\n",
            " [ 1  2  3  4  5  6  7  8  9 10]\n",
            " [ 1  2  3  4  5  6  7  8  9 10]\n",
            " [ 1  2  3  4  5  6  7  8  9 10]]\n"
          ]
        }
      ]
    },
    {
      "cell_type": "code",
      "source": [
        "Câu 3: Sử dụng thư viện Numpy, hãy:"
      ],
      "metadata": {
        "id": "2eIp5CqTcf-d"
      },
      "execution_count": null,
      "outputs": []
    },
    {
      "cell_type": "code",
      "source": [
        "Chuyển ma trận A ở câu 2 thành vector. (Gợi ý: sử dụng hàm flatten())"
      ],
      "metadata": {
        "id": "fqN7jI2zcn9V"
      },
      "execution_count": null,
      "outputs": []
    },
    {
      "cell_type": "code",
      "source": [
        "veca = A.flatten()\n",
        "print(veca)"
      ],
      "metadata": {
        "colab": {
          "base_uri": "https://localhost:8080/"
        },
        "id": "89qCX0Alcou0",
        "outputId": "f98cf81f-bd2f-4591-9881-35124ede5b9f"
      },
      "execution_count": 34,
      "outputs": [
        {
          "output_type": "stream",
          "name": "stdout",
          "text": [
            "[ 1  2  3  4  5  6  7  8  9 10  1  2  3  4  5  6  7  8  9 10  1  2  3  4\n",
            "  5  6  7  8  9 10  1  2  3  4  5  6  7  8  9 10  1  2  3  4  5  6  7  8\n",
            "  9 10  1  2  3  4  5  6  7  8  9 10  1  2  3  4  5  6  7  8  9 10]\n"
          ]
        }
      ]
    },
    {
      "cell_type": "code",
      "source": [
        "- Chuyển vector vừa được tạo ra ở câu trên thành ma trận. (Gợi ý: sử dụng hàm reshape())"
      ],
      "metadata": {
        "id": "2AFwdm9wdChl"
      },
      "execution_count": null,
      "outputs": []
    },
    {
      "cell_type": "code",
      "source": [
        "vecb = np.array(A).reshape(7,10)\n",
        "print(vecb)"
      ],
      "metadata": {
        "colab": {
          "base_uri": "https://localhost:8080/"
        },
        "id": "rEniltwGc1jd",
        "outputId": "6b8571a3-6946-4b98-f149-814ce4f1a6ad"
      },
      "execution_count": 35,
      "outputs": [
        {
          "output_type": "stream",
          "name": "stdout",
          "text": [
            "[[ 1  2  3  4  5  6  7  8  9 10]\n",
            " [ 1  2  3  4  5  6  7  8  9 10]\n",
            " [ 1  2  3  4  5  6  7  8  9 10]\n",
            " [ 1  2  3  4  5  6  7  8  9 10]\n",
            " [ 1  2  3  4  5  6  7  8  9 10]\n",
            " [ 1  2  3  4  5  6  7  8  9 10]\n",
            " [ 1  2  3  4  5  6  7  8  9 10]]\n"
          ]
        }
      ]
    },
    {
      "cell_type": "code",
      "source": [
        "Câu 4: Sử dụng thư viện Numpy, hãy:\n",
        "\n",
        "Tạo ra 1 ma trận A10x15 với các giá trị được sinh ra bởi hàm logspace();\n",
        "Hãy trích rút dòng thứ 3 của ma trận A (tương ứng với 1 vector hàng);\n",
        "Hãy trích rút ra cột thứ 5 của ma trận A (tương ứng với 1 vector cột)."
      ],
      "metadata": {
        "id": "kkey41M2c_Y5"
      },
      "execution_count": null,
      "outputs": []
    },
    {
      "cell_type": "code",
      "source": [
        "vecc = np.logspace(11,21, 10)\n",
        "vecd = []\n",
        "for i in range(15):\n",
        "    vecd.append(vecc)\n",
        "vecd = np.array(vecd)"
      ],
      "metadata": {
        "id": "d739QxbqdIiC"
      },
      "execution_count": 46,
      "outputs": []
    },
    {
      "cell_type": "code",
      "source": [
        "print(vecd)"
      ],
      "metadata": {
        "colab": {
          "base_uri": "https://localhost:8080/"
        },
        "id": "qwb_wJiRdSn9",
        "outputId": "f6ebdbdc-eb6f-479c-a342-40b0282032fb"
      },
      "execution_count": 47,
      "outputs": [
        {
          "output_type": "stream",
          "name": "stdout",
          "text": [
            "[[1.00000000e+11 1.29154967e+12 1.66810054e+13 2.15443469e+14\n",
            "  2.78255940e+15 3.59381366e+16 4.64158883e+17 5.99484250e+18\n",
            "  7.74263683e+19 1.00000000e+21]\n",
            " [1.00000000e+11 1.29154967e+12 1.66810054e+13 2.15443469e+14\n",
            "  2.78255940e+15 3.59381366e+16 4.64158883e+17 5.99484250e+18\n",
            "  7.74263683e+19 1.00000000e+21]\n",
            " [1.00000000e+11 1.29154967e+12 1.66810054e+13 2.15443469e+14\n",
            "  2.78255940e+15 3.59381366e+16 4.64158883e+17 5.99484250e+18\n",
            "  7.74263683e+19 1.00000000e+21]\n",
            " [1.00000000e+11 1.29154967e+12 1.66810054e+13 2.15443469e+14\n",
            "  2.78255940e+15 3.59381366e+16 4.64158883e+17 5.99484250e+18\n",
            "  7.74263683e+19 1.00000000e+21]\n",
            " [1.00000000e+11 1.29154967e+12 1.66810054e+13 2.15443469e+14\n",
            "  2.78255940e+15 3.59381366e+16 4.64158883e+17 5.99484250e+18\n",
            "  7.74263683e+19 1.00000000e+21]\n",
            " [1.00000000e+11 1.29154967e+12 1.66810054e+13 2.15443469e+14\n",
            "  2.78255940e+15 3.59381366e+16 4.64158883e+17 5.99484250e+18\n",
            "  7.74263683e+19 1.00000000e+21]\n",
            " [1.00000000e+11 1.29154967e+12 1.66810054e+13 2.15443469e+14\n",
            "  2.78255940e+15 3.59381366e+16 4.64158883e+17 5.99484250e+18\n",
            "  7.74263683e+19 1.00000000e+21]\n",
            " [1.00000000e+11 1.29154967e+12 1.66810054e+13 2.15443469e+14\n",
            "  2.78255940e+15 3.59381366e+16 4.64158883e+17 5.99484250e+18\n",
            "  7.74263683e+19 1.00000000e+21]\n",
            " [1.00000000e+11 1.29154967e+12 1.66810054e+13 2.15443469e+14\n",
            "  2.78255940e+15 3.59381366e+16 4.64158883e+17 5.99484250e+18\n",
            "  7.74263683e+19 1.00000000e+21]\n",
            " [1.00000000e+11 1.29154967e+12 1.66810054e+13 2.15443469e+14\n",
            "  2.78255940e+15 3.59381366e+16 4.64158883e+17 5.99484250e+18\n",
            "  7.74263683e+19 1.00000000e+21]\n",
            " [1.00000000e+11 1.29154967e+12 1.66810054e+13 2.15443469e+14\n",
            "  2.78255940e+15 3.59381366e+16 4.64158883e+17 5.99484250e+18\n",
            "  7.74263683e+19 1.00000000e+21]\n",
            " [1.00000000e+11 1.29154967e+12 1.66810054e+13 2.15443469e+14\n",
            "  2.78255940e+15 3.59381366e+16 4.64158883e+17 5.99484250e+18\n",
            "  7.74263683e+19 1.00000000e+21]\n",
            " [1.00000000e+11 1.29154967e+12 1.66810054e+13 2.15443469e+14\n",
            "  2.78255940e+15 3.59381366e+16 4.64158883e+17 5.99484250e+18\n",
            "  7.74263683e+19 1.00000000e+21]\n",
            " [1.00000000e+11 1.29154967e+12 1.66810054e+13 2.15443469e+14\n",
            "  2.78255940e+15 3.59381366e+16 4.64158883e+17 5.99484250e+18\n",
            "  7.74263683e+19 1.00000000e+21]\n",
            " [1.00000000e+11 1.29154967e+12 1.66810054e+13 2.15443469e+14\n",
            "  2.78255940e+15 3.59381366e+16 4.64158883e+17 5.99484250e+18\n",
            "  7.74263683e+19 1.00000000e+21]]\n"
          ]
        }
      ]
    },
    {
      "cell_type": "code",
      "source": [
        "print(vecd[2])"
      ],
      "metadata": {
        "colab": {
          "base_uri": "https://localhost:8080/"
        },
        "id": "JYx_gNEbdUdi",
        "outputId": "982d7f21-8170-4c92-bc4f-6f37514cf92b"
      },
      "execution_count": 49,
      "outputs": [
        {
          "output_type": "stream",
          "name": "stdout",
          "text": [
            "[1.00000000e+11 1.29154967e+12 1.66810054e+13 2.15443469e+14\n",
            " 2.78255940e+15 3.59381366e+16 4.64158883e+17 5.99484250e+18\n",
            " 7.74263683e+19 1.00000000e+21]\n"
          ]
        }
      ]
    },
    {
      "cell_type": "code",
      "source": [
        "print(vecd[:,4])"
      ],
      "metadata": {
        "colab": {
          "base_uri": "https://localhost:8080/"
        },
        "id": "2RevaoR7dU9x",
        "outputId": "3912fd31-ccb1-445e-f1de-c0dbad486307"
      },
      "execution_count": 50,
      "outputs": [
        {
          "output_type": "stream",
          "name": "stdout",
          "text": [
            "[2.7825594e+15 2.7825594e+15 2.7825594e+15 2.7825594e+15 2.7825594e+15\n",
            " 2.7825594e+15 2.7825594e+15 2.7825594e+15 2.7825594e+15 2.7825594e+15\n",
            " 2.7825594e+15 2.7825594e+15 2.7825594e+15 2.7825594e+15 2.7825594e+15]\n"
          ]
        }
      ]
    }
  ]
}